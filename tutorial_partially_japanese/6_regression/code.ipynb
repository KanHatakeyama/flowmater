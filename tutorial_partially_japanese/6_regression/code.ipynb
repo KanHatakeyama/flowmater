{
 "cells": [
  {
   "cell_type": "markdown",
   "metadata": {},
   "source": [
    "# Simple example of loading experimental data"
   ]
  },
  {
   "cell_type": "code",
   "execution_count": 1,
   "metadata": {},
   "outputs": [],
   "source": [
    "import pandas as pd\n",
    "import sys\n",
    "from flowmater.graph_util import draw_graph\n",
    "from flowmater.ExperimentManager import ExperimentManager"
   ]
  },
  {
   "cell_type": "code",
   "execution_count": 2,
   "metadata": {},
   "outputs": [],
   "source": [
    "#load\n",
    "em=ExperimentManager()\n",
    "em.load_experiments(\"database\")\n",
    "em.classify_experiments()"
   ]
  },
  {
   "cell_type": "code",
   "execution_count": 3,
   "metadata": {
    "scrolled": true
   },
   "outputs": [
    {
     "data": {
      "text/html": "<div>\n<style scoped>\n    .dataframe tbody tr th:only-of-type {\n        vertical-align: middle;\n    }\n\n    .dataframe tbody tr th {\n        vertical-align: top;\n    }\n\n    .dataframe thead th {\n        text-align: right;\n    }\n</style>\n<table border=\"1\" class=\"dataframe\">\n  <thead>\n    <tr style=\"text-align: right;\">\n      <th></th>\n      <th>Proc, add, g</th>\n      <th>Measure, %, product yield</th>\n      <th>Proc, Heat, oC</th>\n      <th>graphID</th>\n      <th>Proc, Leave, hours</th>\n    </tr>\n  </thead>\n  <tbody>\n    <tr>\n      <th>database\\chart_0</th>\n      <td>2.0</td>\n      <td>10.0</td>\n      <td>25.0</td>\n      <td>1.0</td>\n      <td>NaN</td>\n    </tr>\n    <tr>\n      <th>database\\chart_1</th>\n      <td>4.0</td>\n      <td>20.0</td>\n      <td>50.0</td>\n      <td>1.0</td>\n      <td>NaN</td>\n    </tr>\n    <tr>\n      <th>database\\chart_2</th>\n      <td>6.0</td>\n      <td>40.0</td>\n      <td>70.0</td>\n      <td>1.0</td>\n      <td>NaN</td>\n    </tr>\n    <tr>\n      <th>database\\chart_3</th>\n      <td>10.0</td>\n      <td>20.0</td>\n      <td>80.0</td>\n      <td>1.0</td>\n      <td>NaN</td>\n    </tr>\n    <tr>\n      <th>database\\chart_4</th>\n      <td>8.0</td>\n      <td>10.0</td>\n      <td>100.0</td>\n      <td>1.0</td>\n      <td>NaN</td>\n    </tr>\n    <tr>\n      <th>database\\chart2_0</th>\n      <td>1.0</td>\n      <td>60.0</td>\n      <td>40.0</td>\n      <td>0.0</td>\n      <td>24.0</td>\n    </tr>\n    <tr>\n      <th>database\\chart2_1</th>\n      <td>5.0</td>\n      <td>40.0</td>\n      <td>30.0</td>\n      <td>0.0</td>\n      <td>24.0</td>\n    </tr>\n  </tbody>\n</table>\n</div>",
      "text/plain": "                   Proc, add, g  Measure, %, product yield  Proc, Heat, oC  \\\ndatabase\\chart_0            2.0                       10.0            25.0   \ndatabase\\chart_1            4.0                       20.0            50.0   \ndatabase\\chart_2            6.0                       40.0            70.0   \ndatabase\\chart_3           10.0                       20.0            80.0   \ndatabase\\chart_4            8.0                       10.0           100.0   \ndatabase\\chart2_0           1.0                       60.0            40.0   \ndatabase\\chart2_1           5.0                       40.0            30.0   \n\n                   graphID  Proc, Leave, hours  \ndatabase\\chart_0       1.0                 NaN  \ndatabase\\chart_1       1.0                 NaN  \ndatabase\\chart_2       1.0                 NaN  \ndatabase\\chart_3       1.0                 NaN  \ndatabase\\chart_4       1.0                 NaN  \ndatabase\\chart2_0      0.0                24.0  \ndatabase\\chart2_1      0.0                24.0  "
     },
     "execution_count": 3,
     "metadata": {},
     "output_type": "execute_result"
    }
   ],
   "source": [
    "#show data\n",
    "df=pd.DataFrame.from_dict(em.database).T\n",
    "df"
   ]
  },
  {
   "cell_type": "code",
   "execution_count": 4,
   "metadata": {},
   "outputs": [],
   "source": [
    "#show flowcharts\n",
    "#for graph in em.graph_list:\n",
    "#    draw_graph(graph)"
   ]
  },
  {
   "cell_type": "code",
   "execution_count": 5,
   "metadata": {},
   "outputs": [
    {
     "data": {
      "text/html": "<div>\n<style scoped>\n    .dataframe tbody tr th:only-of-type {\n        vertical-align: middle;\n    }\n\n    .dataframe tbody tr th {\n        vertical-align: top;\n    }\n\n    .dataframe thead th {\n        text-align: right;\n    }\n</style>\n<table border=\"1\" class=\"dataframe\">\n  <thead>\n    <tr style=\"text-align: right;\">\n      <th></th>\n      <th>Proc, add, g</th>\n      <th>Measure, %, product yield</th>\n      <th>Proc, Heat, oC</th>\n      <th>graphID</th>\n      <th>Proc, Leave, hours</th>\n      <th>FP_Measure, %, product yield&lt;--&gt;Proc, Leave, hours</th>\n      <th>FP_Proc, add, g&lt;--&gt;Proc, Heat, oC</th>\n      <th>FP_Proc, Heat, oC&lt;--&gt;Proc, Leave, hours--Proc, add, g</th>\n      <th>FP_Proc, Heat, oC&lt;--&gt;Measure, %, product yield--Proc, add, g</th>\n      <th>FP_Measure, %, product yield&lt;--&gt;Proc, Heat, oC</th>\n      <th>FP_Proc, Leave, hours&lt;--&gt;Measure, %, product yield--Proc, Heat, oC</th>\n    </tr>\n  </thead>\n  <tbody>\n    <tr>\n      <th>database\\chart_0</th>\n      <td>2.0</td>\n      <td>10.0</td>\n      <td>25.0</td>\n      <td>1.0</td>\n      <td>NaN</td>\n      <td>1</td>\n      <td>1</td>\n      <td>1</td>\n      <td>0</td>\n      <td>0</td>\n      <td>1</td>\n    </tr>\n    <tr>\n      <th>database\\chart_1</th>\n      <td>4.0</td>\n      <td>20.0</td>\n      <td>50.0</td>\n      <td>1.0</td>\n      <td>NaN</td>\n      <td>1</td>\n      <td>1</td>\n      <td>1</td>\n      <td>0</td>\n      <td>0</td>\n      <td>1</td>\n    </tr>\n    <tr>\n      <th>database\\chart_2</th>\n      <td>6.0</td>\n      <td>40.0</td>\n      <td>70.0</td>\n      <td>1.0</td>\n      <td>NaN</td>\n      <td>1</td>\n      <td>1</td>\n      <td>1</td>\n      <td>0</td>\n      <td>0</td>\n      <td>1</td>\n    </tr>\n    <tr>\n      <th>database\\chart_3</th>\n      <td>10.0</td>\n      <td>20.0</td>\n      <td>80.0</td>\n      <td>1.0</td>\n      <td>NaN</td>\n      <td>1</td>\n      <td>1</td>\n      <td>1</td>\n      <td>0</td>\n      <td>0</td>\n      <td>1</td>\n    </tr>\n    <tr>\n      <th>database\\chart_4</th>\n      <td>8.0</td>\n      <td>10.0</td>\n      <td>100.0</td>\n      <td>1.0</td>\n      <td>NaN</td>\n      <td>1</td>\n      <td>1</td>\n      <td>1</td>\n      <td>0</td>\n      <td>0</td>\n      <td>1</td>\n    </tr>\n    <tr>\n      <th>database\\chart2_0</th>\n      <td>1.0</td>\n      <td>60.0</td>\n      <td>40.0</td>\n      <td>0.0</td>\n      <td>24.0</td>\n      <td>0</td>\n      <td>1</td>\n      <td>0</td>\n      <td>1</td>\n      <td>1</td>\n      <td>0</td>\n    </tr>\n    <tr>\n      <th>database\\chart2_1</th>\n      <td>5.0</td>\n      <td>40.0</td>\n      <td>30.0</td>\n      <td>0.0</td>\n      <td>24.0</td>\n      <td>0</td>\n      <td>1</td>\n      <td>0</td>\n      <td>1</td>\n      <td>1</td>\n      <td>0</td>\n    </tr>\n  </tbody>\n</table>\n</div>",
      "text/plain": "                   Proc, add, g  Measure, %, product yield  Proc, Heat, oC  \\\ndatabase\\chart_0            2.0                       10.0            25.0   \ndatabase\\chart_1            4.0                       20.0            50.0   \ndatabase\\chart_2            6.0                       40.0            70.0   \ndatabase\\chart_3           10.0                       20.0            80.0   \ndatabase\\chart_4            8.0                       10.0           100.0   \ndatabase\\chart2_0           1.0                       60.0            40.0   \ndatabase\\chart2_1           5.0                       40.0            30.0   \n\n                   graphID  Proc, Leave, hours  \\\ndatabase\\chart_0       1.0                 NaN   \ndatabase\\chart_1       1.0                 NaN   \ndatabase\\chart_2       1.0                 NaN   \ndatabase\\chart_3       1.0                 NaN   \ndatabase\\chart_4       1.0                 NaN   \ndatabase\\chart2_0      0.0                24.0   \ndatabase\\chart2_1      0.0                24.0   \n\n                   FP_Measure, %, product yield<-->Proc, Leave, hours  \\\ndatabase\\chart_0                                                   1    \ndatabase\\chart_1                                                   1    \ndatabase\\chart_2                                                   1    \ndatabase\\chart_3                                                   1    \ndatabase\\chart_4                                                   1    \ndatabase\\chart2_0                                                  0    \ndatabase\\chart2_1                                                  0    \n\n                   FP_Proc, add, g<-->Proc, Heat, oC  \\\ndatabase\\chart_0                                   1   \ndatabase\\chart_1                                   1   \ndatabase\\chart_2                                   1   \ndatabase\\chart_3                                   1   \ndatabase\\chart_4                                   1   \ndatabase\\chart2_0                                  1   \ndatabase\\chart2_1                                  1   \n\n                   FP_Proc, Heat, oC<-->Proc, Leave, hours--Proc, add, g  \\\ndatabase\\chart_0                                                   1       \ndatabase\\chart_1                                                   1       \ndatabase\\chart_2                                                   1       \ndatabase\\chart_3                                                   1       \ndatabase\\chart_4                                                   1       \ndatabase\\chart2_0                                                  0       \ndatabase\\chart2_1                                                  0       \n\n                   FP_Proc, Heat, oC<-->Measure, %, product yield--Proc, add, g  \\\ndatabase\\chart_0                                                   0              \ndatabase\\chart_1                                                   0              \ndatabase\\chart_2                                                   0              \ndatabase\\chart_3                                                   0              \ndatabase\\chart_4                                                   0              \ndatabase\\chart2_0                                                  1              \ndatabase\\chart2_1                                                  1              \n\n                   FP_Measure, %, product yield<-->Proc, Heat, oC  \\\ndatabase\\chart_0                                                0   \ndatabase\\chart_1                                                0   \ndatabase\\chart_2                                                0   \ndatabase\\chart_3                                                0   \ndatabase\\chart_4                                                0   \ndatabase\\chart2_0                                               1   \ndatabase\\chart2_1                                               1   \n\n                   FP_Proc, Leave, hours<-->Measure, %, product yield--Proc, Heat, oC  \ndatabase\\chart_0                                                   1                   \ndatabase\\chart_1                                                   1                   \ndatabase\\chart_2                                                   1                   \ndatabase\\chart_3                                                   1                   \ndatabase\\chart_4                                                   1                   \ndatabase\\chart2_0                                                  0                   \ndatabase\\chart2_1                                                  0                   "
     },
     "execution_count": 5,
     "metadata": {},
     "output_type": "execute_result"
    }
   ],
   "source": [
    "#calcualte fingerprint of florcharts\n",
    "from flowmater.FlowchartFP import FlowchartFP\n",
    "FFP=FlowchartFP(em.graph_list)\n",
    "graph_fp_dict={num:FFP(g) for num,g in enumerate(em.graph_list)}\n",
    "\n",
    "#merge dataframe\n",
    "fp_df=pd.DataFrame.from_dict(graph_fp_dict).T\n",
    "fp_df.columns=[\"FP_\"+i for i in FFP.v_to_i.keys()]\n",
    "merge_df=pd.merge(df,fp_df,left_on=\"graphID\",right_index=True)\n",
    "merge_df"
   ]
  },
  {
   "cell_type": "code",
   "execution_count": 6,
   "metadata": {},
   "outputs": [
    {
     "data": {
      "text/html": "<div>\n<style scoped>\n    .dataframe tbody tr th:only-of-type {\n        vertical-align: middle;\n    }\n\n    .dataframe tbody tr th {\n        vertical-align: top;\n    }\n\n    .dataframe thead th {\n        text-align: right;\n    }\n</style>\n<table border=\"1\" class=\"dataframe\">\n  <thead>\n    <tr style=\"text-align: right;\">\n      <th></th>\n      <th>Proc, add, g</th>\n      <th>Measure, %, product yield</th>\n      <th>Proc, Heat, oC</th>\n      <th>graphID</th>\n      <th>Proc, Leave, hours</th>\n      <th>FP_Measure, %, product yield&lt;--&gt;Proc, Leave, hours</th>\n      <th>FP_Proc, Heat, oC&lt;--&gt;Proc, Leave, hours--Proc, add, g</th>\n      <th>FP_Proc, Heat, oC&lt;--&gt;Measure, %, product yield--Proc, add, g</th>\n      <th>FP_Measure, %, product yield&lt;--&gt;Proc, Heat, oC</th>\n      <th>FP_Proc, Leave, hours&lt;--&gt;Measure, %, product yield--Proc, Heat, oC</th>\n    </tr>\n  </thead>\n  <tbody>\n    <tr>\n      <th>database\\chart_0</th>\n      <td>2.0</td>\n      <td>10.0</td>\n      <td>25.0</td>\n      <td>1.0</td>\n      <td>NaN</td>\n      <td>1</td>\n      <td>1</td>\n      <td>0</td>\n      <td>0</td>\n      <td>1</td>\n    </tr>\n    <tr>\n      <th>database\\chart_1</th>\n      <td>4.0</td>\n      <td>20.0</td>\n      <td>50.0</td>\n      <td>1.0</td>\n      <td>NaN</td>\n      <td>1</td>\n      <td>1</td>\n      <td>0</td>\n      <td>0</td>\n      <td>1</td>\n    </tr>\n    <tr>\n      <th>database\\chart_2</th>\n      <td>6.0</td>\n      <td>40.0</td>\n      <td>70.0</td>\n      <td>1.0</td>\n      <td>NaN</td>\n      <td>1</td>\n      <td>1</td>\n      <td>0</td>\n      <td>0</td>\n      <td>1</td>\n    </tr>\n    <tr>\n      <th>database\\chart_3</th>\n      <td>10.0</td>\n      <td>20.0</td>\n      <td>80.0</td>\n      <td>1.0</td>\n      <td>NaN</td>\n      <td>1</td>\n      <td>1</td>\n      <td>0</td>\n      <td>0</td>\n      <td>1</td>\n    </tr>\n    <tr>\n      <th>database\\chart_4</th>\n      <td>8.0</td>\n      <td>10.0</td>\n      <td>100.0</td>\n      <td>1.0</td>\n      <td>NaN</td>\n      <td>1</td>\n      <td>1</td>\n      <td>0</td>\n      <td>0</td>\n      <td>1</td>\n    </tr>\n    <tr>\n      <th>database\\chart2_0</th>\n      <td>1.0</td>\n      <td>60.0</td>\n      <td>40.0</td>\n      <td>0.0</td>\n      <td>24.0</td>\n      <td>0</td>\n      <td>0</td>\n      <td>1</td>\n      <td>1</td>\n      <td>0</td>\n    </tr>\n    <tr>\n      <th>database\\chart2_1</th>\n      <td>5.0</td>\n      <td>40.0</td>\n      <td>30.0</td>\n      <td>0.0</td>\n      <td>24.0</td>\n      <td>0</td>\n      <td>0</td>\n      <td>1</td>\n      <td>1</td>\n      <td>0</td>\n    </tr>\n  </tbody>\n</table>\n</div>",
      "text/plain": "                   Proc, add, g  Measure, %, product yield  Proc, Heat, oC  \\\ndatabase\\chart_0            2.0                       10.0            25.0   \ndatabase\\chart_1            4.0                       20.0            50.0   \ndatabase\\chart_2            6.0                       40.0            70.0   \ndatabase\\chart_3           10.0                       20.0            80.0   \ndatabase\\chart_4            8.0                       10.0           100.0   \ndatabase\\chart2_0           1.0                       60.0            40.0   \ndatabase\\chart2_1           5.0                       40.0            30.0   \n\n                   graphID  Proc, Leave, hours  \\\ndatabase\\chart_0       1.0                 NaN   \ndatabase\\chart_1       1.0                 NaN   \ndatabase\\chart_2       1.0                 NaN   \ndatabase\\chart_3       1.0                 NaN   \ndatabase\\chart_4       1.0                 NaN   \ndatabase\\chart2_0      0.0                24.0   \ndatabase\\chart2_1      0.0                24.0   \n\n                   FP_Measure, %, product yield<-->Proc, Leave, hours  \\\ndatabase\\chart_0                                                   1    \ndatabase\\chart_1                                                   1    \ndatabase\\chart_2                                                   1    \ndatabase\\chart_3                                                   1    \ndatabase\\chart_4                                                   1    \ndatabase\\chart2_0                                                  0    \ndatabase\\chart2_1                                                  0    \n\n                   FP_Proc, Heat, oC<-->Proc, Leave, hours--Proc, add, g  \\\ndatabase\\chart_0                                                   1       \ndatabase\\chart_1                                                   1       \ndatabase\\chart_2                                                   1       \ndatabase\\chart_3                                                   1       \ndatabase\\chart_4                                                   1       \ndatabase\\chart2_0                                                  0       \ndatabase\\chart2_1                                                  0       \n\n                   FP_Proc, Heat, oC<-->Measure, %, product yield--Proc, add, g  \\\ndatabase\\chart_0                                                   0              \ndatabase\\chart_1                                                   0              \ndatabase\\chart_2                                                   0              \ndatabase\\chart_3                                                   0              \ndatabase\\chart_4                                                   0              \ndatabase\\chart2_0                                                  1              \ndatabase\\chart2_1                                                  1              \n\n                   FP_Measure, %, product yield<-->Proc, Heat, oC  \\\ndatabase\\chart_0                                                0   \ndatabase\\chart_1                                                0   \ndatabase\\chart_2                                                0   \ndatabase\\chart_3                                                0   \ndatabase\\chart_4                                                0   \ndatabase\\chart2_0                                               1   \ndatabase\\chart2_1                                               1   \n\n                   FP_Proc, Leave, hours<-->Measure, %, product yield--Proc, Heat, oC  \ndatabase\\chart_0                                                   1                   \ndatabase\\chart_1                                                   1                   \ndatabase\\chart_2                                                   1                   \ndatabase\\chart_3                                                   1                   \ndatabase\\chart_4                                                   1                   \ndatabase\\chart2_0                                                  0                   \ndatabase\\chart2_1                                                  0                   "
     },
     "execution_count": 6,
     "metadata": {},
     "output_type": "execute_result"
    }
   ],
   "source": [
    "#simplify database (drop columns of duplicates)\r\n",
    "simple_cols=[]\r\n",
    "for col in merge_df.columns:\r\n",
    "    if len(list(merge_df[col].drop_duplicates()))>1:\r\n",
    "        simple_cols.append(col)\r\n",
    "        \r\n",
    "merge_df[simple_cols]"
   ]
  },
  {
   "cell_type": "code",
   "execution_count": 7,
   "metadata": {},
   "outputs": [
    {
     "data": {
      "text/html": "<div>\n<style scoped>\n    .dataframe tbody tr th:only-of-type {\n        vertical-align: middle;\n    }\n\n    .dataframe tbody tr th {\n        vertical-align: top;\n    }\n\n    .dataframe thead th {\n        text-align: right;\n    }\n</style>\n<table border=\"1\" class=\"dataframe\">\n  <thead>\n    <tr style=\"text-align: right;\">\n      <th></th>\n      <th>Proc, add, g</th>\n      <th>Measure, %, product yield</th>\n      <th>Proc, Heat, oC</th>\n      <th>graphID</th>\n      <th>Proc, Leave, hours</th>\n      <th>FP_Measure, %, product yield&lt;--&gt;Proc, Leave, hours</th>\n      <th>FP_Proc, add, g&lt;--&gt;Proc, Heat, oC</th>\n      <th>FP_Proc, Heat, oC&lt;--&gt;Proc, Leave, hours--Proc, add, g</th>\n      <th>FP_Proc, Heat, oC&lt;--&gt;Measure, %, product yield--Proc, add, g</th>\n      <th>FP_Measure, %, product yield&lt;--&gt;Proc, Heat, oC</th>\n      <th>FP_Proc, Leave, hours&lt;--&gt;Measure, %, product yield--Proc, Heat, oC</th>\n    </tr>\n  </thead>\n  <tbody>\n    <tr>\n      <th>database\\chart_0</th>\n      <td>2.0</td>\n      <td>10.0</td>\n      <td>25.0</td>\n      <td>1.0</td>\n      <td>24.0</td>\n      <td>1</td>\n      <td>1</td>\n      <td>1</td>\n      <td>0</td>\n      <td>0</td>\n      <td>1</td>\n    </tr>\n    <tr>\n      <th>database\\chart_1</th>\n      <td>4.0</td>\n      <td>20.0</td>\n      <td>50.0</td>\n      <td>1.0</td>\n      <td>24.0</td>\n      <td>1</td>\n      <td>1</td>\n      <td>1</td>\n      <td>0</td>\n      <td>0</td>\n      <td>1</td>\n    </tr>\n    <tr>\n      <th>database\\chart_2</th>\n      <td>6.0</td>\n      <td>40.0</td>\n      <td>70.0</td>\n      <td>1.0</td>\n      <td>24.0</td>\n      <td>1</td>\n      <td>1</td>\n      <td>1</td>\n      <td>0</td>\n      <td>0</td>\n      <td>1</td>\n    </tr>\n    <tr>\n      <th>database\\chart_3</th>\n      <td>10.0</td>\n      <td>20.0</td>\n      <td>80.0</td>\n      <td>1.0</td>\n      <td>24.0</td>\n      <td>1</td>\n      <td>1</td>\n      <td>1</td>\n      <td>0</td>\n      <td>0</td>\n      <td>1</td>\n    </tr>\n    <tr>\n      <th>database\\chart_4</th>\n      <td>8.0</td>\n      <td>10.0</td>\n      <td>100.0</td>\n      <td>1.0</td>\n      <td>24.0</td>\n      <td>1</td>\n      <td>1</td>\n      <td>1</td>\n      <td>0</td>\n      <td>0</td>\n      <td>1</td>\n    </tr>\n    <tr>\n      <th>database\\chart2_0</th>\n      <td>1.0</td>\n      <td>60.0</td>\n      <td>40.0</td>\n      <td>0.0</td>\n      <td>24.0</td>\n      <td>0</td>\n      <td>1</td>\n      <td>0</td>\n      <td>1</td>\n      <td>1</td>\n      <td>0</td>\n    </tr>\n    <tr>\n      <th>database\\chart2_1</th>\n      <td>5.0</td>\n      <td>40.0</td>\n      <td>30.0</td>\n      <td>0.0</td>\n      <td>24.0</td>\n      <td>0</td>\n      <td>1</td>\n      <td>0</td>\n      <td>1</td>\n      <td>1</td>\n      <td>0</td>\n    </tr>\n  </tbody>\n</table>\n</div>",
      "text/plain": "                   Proc, add, g  Measure, %, product yield  Proc, Heat, oC  \\\ndatabase\\chart_0            2.0                       10.0            25.0   \ndatabase\\chart_1            4.0                       20.0            50.0   \ndatabase\\chart_2            6.0                       40.0            70.0   \ndatabase\\chart_3           10.0                       20.0            80.0   \ndatabase\\chart_4            8.0                       10.0           100.0   \ndatabase\\chart2_0           1.0                       60.0            40.0   \ndatabase\\chart2_1           5.0                       40.0            30.0   \n\n                   graphID  Proc, Leave, hours  \\\ndatabase\\chart_0       1.0                24.0   \ndatabase\\chart_1       1.0                24.0   \ndatabase\\chart_2       1.0                24.0   \ndatabase\\chart_3       1.0                24.0   \ndatabase\\chart_4       1.0                24.0   \ndatabase\\chart2_0      0.0                24.0   \ndatabase\\chart2_1      0.0                24.0   \n\n                   FP_Measure, %, product yield<-->Proc, Leave, hours  \\\ndatabase\\chart_0                                                   1    \ndatabase\\chart_1                                                   1    \ndatabase\\chart_2                                                   1    \ndatabase\\chart_3                                                   1    \ndatabase\\chart_4                                                   1    \ndatabase\\chart2_0                                                  0    \ndatabase\\chart2_1                                                  0    \n\n                   FP_Proc, add, g<-->Proc, Heat, oC  \\\ndatabase\\chart_0                                   1   \ndatabase\\chart_1                                   1   \ndatabase\\chart_2                                   1   \ndatabase\\chart_3                                   1   \ndatabase\\chart_4                                   1   \ndatabase\\chart2_0                                  1   \ndatabase\\chart2_1                                  1   \n\n                   FP_Proc, Heat, oC<-->Proc, Leave, hours--Proc, add, g  \\\ndatabase\\chart_0                                                   1       \ndatabase\\chart_1                                                   1       \ndatabase\\chart_2                                                   1       \ndatabase\\chart_3                                                   1       \ndatabase\\chart_4                                                   1       \ndatabase\\chart2_0                                                  0       \ndatabase\\chart2_1                                                  0       \n\n                   FP_Proc, Heat, oC<-->Measure, %, product yield--Proc, add, g  \\\ndatabase\\chart_0                                                   0              \ndatabase\\chart_1                                                   0              \ndatabase\\chart_2                                                   0              \ndatabase\\chart_3                                                   0              \ndatabase\\chart_4                                                   0              \ndatabase\\chart2_0                                                  1              \ndatabase\\chart2_1                                                  1              \n\n                   FP_Measure, %, product yield<-->Proc, Heat, oC  \\\ndatabase\\chart_0                                                0   \ndatabase\\chart_1                                                0   \ndatabase\\chart_2                                                0   \ndatabase\\chart_3                                                0   \ndatabase\\chart_4                                                0   \ndatabase\\chart2_0                                               1   \ndatabase\\chart2_1                                               1   \n\n                   FP_Proc, Leave, hours<-->Measure, %, product yield--Proc, Heat, oC  \ndatabase\\chart_0                                                   1                   \ndatabase\\chart_1                                                   1                   \ndatabase\\chart_2                                                   1                   \ndatabase\\chart_3                                                   1                   \ndatabase\\chart_4                                                   1                   \ndatabase\\chart2_0                                                  0                   \ndatabase\\chart2_1                                                  0                   "
     },
     "execution_count": 7,
     "metadata": {},
     "output_type": "execute_result"
    }
   ],
   "source": [
    "#fill nan\r\n",
    "target_df=merge_df.fillna(merge_df.mean())\r\n",
    "target_df"
   ]
  },
  {
   "cell_type": "code",
   "execution_count": 28,
   "metadata": {},
   "outputs": [],
   "source": [
    "y_column=\"Measure, %, product yield\"\r\n",
    "X_columns=list(target_df.columns)\r\n",
    "X_columns.remove(y_column)\r\n",
    "X_columns.remove(\"graphID\")"
   ]
  },
  {
   "cell_type": "code",
   "execution_count": 29,
   "metadata": {},
   "outputs": [
    {
     "data": {
      "text/plain": "array([17. , 21.6, 31.2, 22. , 16.6, 47.1, 39.9])"
     },
     "execution_count": 29,
     "metadata": {},
     "output_type": "execute_result"
    }
   ],
   "source": [
    "from sklearn.ensemble import RandomForestRegressor\r\n",
    "model=RandomForestRegressor()\r\n",
    "model.fit(target_df[X_columns],target_df[y_column])\r\n",
    "model.predict(target_df[X_columns])"
   ]
  },
  {
   "cell_type": "code",
   "execution_count": 30,
   "metadata": {},
   "outputs": [
    {
     "name": "stdout",
     "output_type": "stream",
     "text": [
      "0.33:  Proc, add, g\n",
      "0.22:  Proc, Heat, oC\n",
      "0.00:  Proc, Leave, hours\n",
      "0.08:  FP_Measure, %, product yield<-->Proc, Leave, hours\n",
      "0.00:  FP_Proc, add, g<-->Proc, Heat, oC\n",
      "0.10:  FP_Proc, Heat, oC<-->Proc, Leave, hours--Proc, add, g\n",
      "0.13:  FP_Proc, Heat, oC<-->Measure, %, product yield--Proc, add, g\n",
      "0.08:  FP_Measure, %, product yield<-->Proc, Heat, oC\n",
      "0.06:  FP_Proc, Leave, hours<-->Measure, %, product yield--Proc, Heat, oC\n"
     ]
    }
   ],
   "source": [
    "#show important params\r\n",
    "for k,v in zip(X_columns,model.feature_importances_):\r\n",
    "    print(\"{:.2f}:  {:}\".format(v,k))"
   ]
  },
  {
   "cell_type": "code",
   "execution_count": 37,
   "metadata": {},
   "outputs": [],
   "source": [
    "#predict manual condition\r\n",
    "manual_X=[[\r\n",
    "    2,\r\n",
    "    25,\r\n",
    "    29,\r\n",
    "    1,\r\n",
    "    1,\r\n",
    "    1,\r\n",
    "    0,\r\n",
    "    0,\r\n",
    "    1\r\n",
    "]]"
   ]
  },
  {
   "cell_type": "code",
   "execution_count": 38,
   "metadata": {},
   "outputs": [
    {
     "data": {
      "text/plain": "array([17.])"
     },
     "execution_count": 38,
     "metadata": {},
     "output_type": "execute_result"
    }
   ],
   "source": [
    "import numpy as np\r\n",
    "model.predict(np.array(manual_X))"
   ]
  },
  {
   "cell_type": "code",
   "execution_count": null,
   "metadata": {},
   "outputs": [],
   "source": []
  }
 ],
 "metadata": {
  "interpreter": {
   "hash": "de4f042acb1a69fa8b9b126fa8515c94fce7d8320218e75bdee65f4b97f84e85"
  },
  "kernelspec": {
   "display_name": "Python 3.7.9 64-bit ('mi': conda)",
   "name": "python3"
  },
  "language_info": {
   "name": "python",
   "version": ""
  }
 },
 "nbformat": 4,
 "nbformat_minor": 4
}
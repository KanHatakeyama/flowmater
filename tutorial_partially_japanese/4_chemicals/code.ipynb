{
 "cells": [
  {
   "cell_type": "markdown",
   "metadata": {},
   "source": [
    "# Simple example of loading experimental data"
   ]
  },
  {
   "cell_type": "code",
   "execution_count": 1,
   "metadata": {},
   "outputs": [],
   "source": [
    "import pandas as pd\n",
    "import sys\n",
    "from flowmater.graph_util import draw_graph\n",
    "from flowmater.ExperimentManager import ExperimentManager"
   ]
  },
  {
   "cell_type": "code",
   "execution_count": 2,
   "metadata": {},
   "outputs": [],
   "source": [
    "#load\n",
    "em=ExperimentManager()\n",
    "em.load_experiments(\"database\")\n",
    "em.classify_experiments()"
   ]
  },
  {
   "cell_type": "code",
   "execution_count": 3,
   "metadata": {
    "scrolled": true
   },
   "outputs": [
    {
     "data": {
      "text/html": [
       "<div>\n",
       "<style scoped>\n",
       "    .dataframe tbody tr th:only-of-type {\n",
       "        vertical-align: middle;\n",
       "    }\n",
       "\n",
       "    .dataframe tbody tr th {\n",
       "        vertical-align: top;\n",
       "    }\n",
       "\n",
       "    .dataframe thead th {\n",
       "        text-align: right;\n",
       "    }\n",
       "</style>\n",
       "<table border=\"1\" class=\"dataframe\">\n",
       "  <thead>\n",
       "    <tr style=\"text-align: right;\">\n",
       "      <th></th>\n",
       "      <th>Measure_yield, %, product yield</th>\n",
       "      <th>Proc_heat, Heat, oC</th>\n",
       "      <th>Chemical_B</th>\n",
       "      <th>Proc, add, mL</th>\n",
       "      <th>Chemical_A_SMILES</th>\n",
       "      <th>Proc, add, g</th>\n",
       "      <th>graphID</th>\n",
       "    </tr>\n",
       "  </thead>\n",
       "  <tbody>\n",
       "    <tr>\n",
       "      <th>database\\chart_0</th>\n",
       "      <td>10</td>\n",
       "      <td>25</td>\n",
       "      <td>C</td>\n",
       "      <td>100</td>\n",
       "      <td>ClC(Cl)(Cl)C</td>\n",
       "      <td>2</td>\n",
       "      <td>0</td>\n",
       "    </tr>\n",
       "    <tr>\n",
       "      <th>database\\chart_1</th>\n",
       "      <td>20</td>\n",
       "      <td>50</td>\n",
       "      <td>CC</td>\n",
       "      <td>100</td>\n",
       "      <td>ClC(Cl)(Cl)C</td>\n",
       "      <td>4</td>\n",
       "      <td>0</td>\n",
       "    </tr>\n",
       "    <tr>\n",
       "      <th>database\\chart_2</th>\n",
       "      <td>40</td>\n",
       "      <td>70</td>\n",
       "      <td>CCC</td>\n",
       "      <td>100</td>\n",
       "      <td>ClC(Cl)(Cl)C</td>\n",
       "      <td>6</td>\n",
       "      <td>0</td>\n",
       "    </tr>\n",
       "    <tr>\n",
       "      <th>database\\chart_3</th>\n",
       "      <td>20</td>\n",
       "      <td>80</td>\n",
       "      <td>CCCC</td>\n",
       "      <td>100</td>\n",
       "      <td>ClC(Cl)(Cl)C</td>\n",
       "      <td>10</td>\n",
       "      <td>0</td>\n",
       "    </tr>\n",
       "    <tr>\n",
       "      <th>database\\chart_4</th>\n",
       "      <td>10</td>\n",
       "      <td>100</td>\n",
       "      <td>CCCCC</td>\n",
       "      <td>100</td>\n",
       "      <td>ClC(Cl)(Cl)C</td>\n",
       "      <td>8</td>\n",
       "      <td>0</td>\n",
       "    </tr>\n",
       "  </tbody>\n",
       "</table>\n",
       "</div>"
      ],
      "text/plain": [
       "                 Measure_yield, %, product yield Proc_heat, Heat, oC  \\\n",
       "database\\chart_0                              10                  25   \n",
       "database\\chart_1                              20                  50   \n",
       "database\\chart_2                              40                  70   \n",
       "database\\chart_3                              20                  80   \n",
       "database\\chart_4                              10                 100   \n",
       "\n",
       "                 Chemical_B Proc, add, mL Chemical_A_SMILES Proc, add, g  \\\n",
       "database\\chart_0          C           100      ClC(Cl)(Cl)C            2   \n",
       "database\\chart_1         CC           100      ClC(Cl)(Cl)C            4   \n",
       "database\\chart_2        CCC           100      ClC(Cl)(Cl)C            6   \n",
       "database\\chart_3       CCCC           100      ClC(Cl)(Cl)C           10   \n",
       "database\\chart_4      CCCCC           100      ClC(Cl)(Cl)C            8   \n",
       "\n",
       "                 graphID  \n",
       "database\\chart_0       0  \n",
       "database\\chart_1       0  \n",
       "database\\chart_2       0  \n",
       "database\\chart_3       0  \n",
       "database\\chart_4       0  "
      ]
     },
     "execution_count": 3,
     "metadata": {},
     "output_type": "execute_result"
    }
   ],
   "source": [
    "#show data\n",
    "df=pd.DataFrame.from_dict(em.database).T\n",
    "df"
   ]
  },
  {
   "cell_type": "code",
   "execution_count": 4,
   "metadata": {},
   "outputs": [
    {
     "data": {
      "image/png": "[encoded data removed]",
      "text/plain": [
       "<Figure size 432x288 with 1 Axes>"
      ]
     },
     "metadata": {},
     "output_type": "display_data"
    }
   ],
   "source": [
    "#show flowchart\n",
    "draw_graph(em.graph_list[0])\n"
   ]
  },
  {
   "cell_type": "code",
   "execution_count": null,
   "metadata": {},
   "outputs": [],
   "source": []
  }
 ],
 "metadata": {
  "kernelspec": {
   "display_name": "Environment (conda_mi)",
   "language": "python",
   "name": "conda_mi"
  },
  "language_info": {
   "codemirror_mode": {
    "name": "ipython",
    "version": 3
   },
   "file_extension": ".py",
   "mimetype": "text/x-python",
   "name": "python",
   "nbconvert_exporter": "python",
   "pygments_lexer": "ipython3",
   "version": "3.7.9"
  }
 },
 "nbformat": 4,
 "nbformat_minor": 4
}
